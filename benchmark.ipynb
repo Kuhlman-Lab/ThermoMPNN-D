{
 "cells": [
  {
   "cell_type": "markdown",
   "metadata": {},
   "source": [
    "# This notebook includes code for benchmarking ThermoMPNN models on the datasets used in the ThermoMPNN-D paper\n",
    "\n",
    "To run the benchmarks, just run the cells below. Each model is provided with a few different datasets to show how each dataset is configured. "
   ]
  },
  {
   "cell_type": "markdown",
   "metadata": {},
   "source": [
    "## Shared Utility Classes and Functions"
   ]
  },
  {
   "cell_type": "code",
   "execution_count": 1,
   "metadata": {},
   "outputs": [
    {
     "name": "stderr",
     "output_type": "stream",
     "text": [
      "/home/hdieckhaus/miniforge3/envs/thermoMPNN/lib/python3.10/site-packages/Bio/pairwise2.py:278: BiopythonDeprecationWarning: Bio.pairwise2 has been deprecated, and we intend to remove it in a future release of Biopython. As an alternative, please consider using Bio.Align.PairwiseAligner as a replacement, and contact the Biopython developers if you still need the Bio.pairwise2 module.\n",
      "  warnings.warn(\n"
     ]
    }
   ],
   "source": [
    "from omegaconf import OmegaConf\n",
    "from thermompnn.trainer.v2_trainer import TransferModelPLv2, TransferModelPLv2Siamese\n",
    "from thermompnn.train_thermompnn import parse_cfg\n",
    "from thermompnn.inference.v2_inference import run_prediction_batched\n",
    "from thermompnn.datasets.v2_datasets import MegaScaleDatasetv2, FireProtDatasetv2, ddgBenchDatasetv2, ProteinGymDataset\n",
    "\n",
    "from scipy.stats import spearmanr, pearsonr\n",
    "from sklearn.metrics import root_mean_squared_error as rmse"
   ]
  },
  {
   "cell_type": "markdown",
   "metadata": {},
   "source": [
    "## Single Mutant Models"
   ]
  },
  {
   "cell_type": "code",
   "execution_count": 5,
   "metadata": {},
   "outputs": [
    {
     "name": "stdout",
     "output_type": "stream",
     "text": [
      "Loading model %s /home/hdieckhaus/scripts/ThermoMPNN/vanilla_model_weights/v_48_020.pt\n",
      "setting ProteinMPNN dropout: 0.0\n",
      "MLP HIDDEN SIZES: [384, 64, 32, 21]\n"
     ]
    },
    {
     "name": "stderr",
     "output_type": "stream",
     "text": [
      "/home/hdieckhaus/miniforge3/envs/thermoMPNN/lib/python3.10/site-packages/torchmetrics/utilities/prints.py:43: UserWarning: Metric `SpearmanCorrcoef` will save all targets and predictions in the buffer. For large datasets, this may lead to large memory footprint.\n",
      "  warnings.warn(*args, **kwargs)  # noqa: B028\n"
     ]
    }
   ],
   "source": [
    "# default single mutant config\n",
    "cfg = OmegaConf.merge(OmegaConf.load('examples/configs/local.yaml'), OmegaConf.load('examples/configs/single.yaml'))\n",
    "cfg = parse_cfg(cfg)\n",
    "\n",
    "# load single mutant model\n",
    "model_path = 'model_weights/ThermoMPNN-ens1.ckpt'\n",
    "model = TransferModelPLv2.load_from_checkpoint(checkpoint_path=model_path, cfg=cfg, device='gpu')\n"
   ]
  },
  {
   "cell_type": "code",
   "execution_count": 6,
   "metadata": {},
   "outputs": [
    {
     "name": "stderr",
     "output_type": "stream",
     "text": [
      "100%|██████████| 28/28 [00:03<00:00,  8.43it/s]\n",
      "/home/hdieckhaus/miniforge3/envs/thermoMPNN/lib/python3.10/site-packages/torchmetrics/utilities/prints.py:43: UserWarning: Metric `SpearmanCorrcoef` will save all targets and predictions in the buffer. For large datasets, this may lead to large memory footprint.\n",
      "  warnings.warn(*args, **kwargs)  # noqa: B028\n"
     ]
    },
    {
     "name": "stdout",
     "output_type": "stream",
     "text": [
      "Including 28172 direct single/double mutations\n",
      "Testing Model ThermoMPNN_single on dataset megascale-S-test\n"
     ]
    },
    {
     "name": "stderr",
     "output_type": "stream",
     "text": [
      "100%|██████████| 111/111 [00:21<00:00,  5.21it/s]\n"
     ]
    },
    {
     "name": "stdout",
     "output_type": "stream",
     "text": [
      "28172 mutations evaluated\n",
      "r2 0.5497757196426392\n",
      "mse 0.5006169676780701\n",
      "rmse 0.707542896270752\n",
      "spearman 0.7186527252197266\n",
      "pearson 0.7441239356994629\n"
     ]
    }
   ],
   "source": [
    "# load single mutant dataset of choice - Megascale-S test set\n",
    "cfg.training.batch_size = 256\n",
    "cfg.data.dataset = 'megascale'\n",
    "cfg.data.splits = ['test']\n",
    "cfg.data.mut_types = ['single']\n",
    "keep = True # this will return the raw predictions if True\n",
    "dataset = MegaScaleDatasetv2(cfg, split='test')\n",
    "results = run_prediction_batched(name='ThermoMPNN_single', model=model, dataset_name='megascale-S-test', results=[], dataset=dataset, keep=keep, zero_shot=False, cfg=cfg)\n"
   ]
  },
  {
   "cell_type": "code",
   "execution_count": 7,
   "metadata": {},
   "outputs": [
    {
     "name": "stdout",
     "output_type": "stream",
     "text": [
      "Reverse mutations: False\n"
     ]
    },
    {
     "name": "stderr",
     "output_type": "stream",
     "text": [
      "/home/hdieckhaus/miniforge3/envs/thermoMPNN/lib/python3.10/site-packages/torchmetrics/utilities/prints.py:43: UserWarning: Metric `SpearmanCorrcoef` will save all targets and predictions in the buffer. For large datasets, this may lead to large memory footprint.\n",
      "  warnings.warn(*args, **kwargs)  # noqa: B028\n"
     ]
    },
    {
     "name": "stdout",
     "output_type": "stream",
     "text": [
      "Testing Model ThermoMPNN_single on dataset ssym-inv\n"
     ]
    },
    {
     "name": "stderr",
     "output_type": "stream",
     "text": [
      "100%|██████████| 342/342 [00:04<00:00, 84.24it/s]"
     ]
    },
    {
     "name": "stdout",
     "output_type": "stream",
     "text": [
      "342 mutations evaluated\n",
      "r2 0.0019396543502807617\n",
      "mse 2.371711492538452\n",
      "rmse 1.5400362014770508\n",
      "spearman 0.6066070795059204\n",
      "pearson 0.5833054780960083\n"
     ]
    },
    {
     "name": "stderr",
     "output_type": "stream",
     "text": [
      "\n"
     ]
    }
   ],
   "source": [
    "# Alternate single mutant benchmark: SSYM inverse dataset\n",
    "cfg.training.batch_size = 1\n",
    "cfg.data.dataset = 'ssym'\n",
    "cfg.data.splits = ['inv']\n",
    "cfg.data.mut_types = ['single']\n",
    "keep = False\n",
    "dataset = ddgBenchDatasetv2(cfg, csv_fname='data/protddg-bench-master/SSYM/ssym-5fold_clean_inv.csv', pdb_dir='data/protddg-bench-master/SSYM/pdbs')\n",
    "results = run_prediction_batched(name='ThermoMPNN_single', model=model, dataset_name='ssym-inv', results=[], dataset=dataset, keep=keep, zero_shot=False, cfg=cfg)\n"
   ]
  },
  {
   "cell_type": "markdown",
   "metadata": {},
   "source": [
    "## Additive Models"
   ]
  },
  {
   "cell_type": "code",
   "execution_count": 8,
   "metadata": {},
   "outputs": [
    {
     "name": "stdout",
     "output_type": "stream",
     "text": [
      "Loading model %s /home/hdieckhaus/scripts/ThermoMPNN/vanilla_model_weights/v_48_020.pt\n",
      "setting ProteinMPNN dropout: 0.0\n",
      "MLP HIDDEN SIZES: [384, 64, 32, 21]\n"
     ]
    },
    {
     "name": "stderr",
     "output_type": "stream",
     "text": [
      "/home/hdieckhaus/miniforge3/envs/thermoMPNN/lib/python3.10/site-packages/torchmetrics/utilities/prints.py:43: UserWarning: Metric `SpearmanCorrcoef` will save all targets and predictions in the buffer. For large datasets, this may lead to large memory footprint.\n",
      "  warnings.warn(*args, **kwargs)  # noqa: B028\n"
     ]
    }
   ],
   "source": [
    "# default single mutant config\n",
    "cfg = OmegaConf.merge(OmegaConf.load('examples/configs/local.yaml'), OmegaConf.load('examples/configs/single.yaml'))\n",
    "cfg = parse_cfg(cfg)\n",
    "\n",
    "# load single mutant model\n",
    "model_path = 'model_weights/ThermoMPNN-ens1.ckpt'\n",
    "model = TransferModelPLv2.load_from_checkpoint(checkpoint_path=model_path, cfg=cfg, device='gpu')\n"
   ]
  },
  {
   "cell_type": "code",
   "execution_count": 9,
   "metadata": {},
   "outputs": [
    {
     "name": "stderr",
     "output_type": "stream",
     "text": [
      "100%|██████████| 28/28 [00:03<00:00,  8.35it/s]\n"
     ]
    },
    {
     "name": "stdout",
     "output_type": "stream",
     "text": [
      "Including 19671 direct single/double mutations\n"
     ]
    },
    {
     "name": "stderr",
     "output_type": "stream",
     "text": [
      "100%|██████████| 28/28 [00:03<00:00,  8.49it/s]\n",
      "/home/hdieckhaus/miniforge3/envs/thermoMPNN/lib/python3.10/site-packages/torchmetrics/utilities/prints.py:43: UserWarning: Metric `SpearmanCorrcoef` will save all targets and predictions in the buffer. For large datasets, this may lead to large memory footprint.\n",
      "  warnings.warn(*args, **kwargs)  # noqa: B028\n"
     ]
    },
    {
     "name": "stdout",
     "output_type": "stream",
     "text": [
      "Including 19671 direct single/double mutations\n",
      "Testing Model ThermoMPNN_additive on dataset megascale-D-test-1\n"
     ]
    },
    {
     "name": "stderr",
     "output_type": "stream",
     "text": [
      "100%|██████████| 77/77 [00:16<00:00,  4.73it/s]\n"
     ]
    },
    {
     "name": "stdout",
     "output_type": "stream",
     "text": [
      "19671 mutations evaluated\n",
      "r2 -0.5609180927276611\n",
      "mse 1.8514941930770874\n",
      "rmse 1.3606961965560913\n",
      "spearman 0.36170217394828796\n",
      "pearson 0.38949763774871826\n",
      "Testing Model ThermoMPNN_additive on dataset megascale-D-test-2\n"
     ]
    },
    {
     "name": "stderr",
     "output_type": "stream",
     "text": [
      "100%|██████████| 77/77 [00:16<00:00,  4.73it/s]\n"
     ]
    },
    {
     "name": "stdout",
     "output_type": "stream",
     "text": [
      "19671 mutations evaluated\n",
      "r2 -0.7386915683746338\n",
      "mse 2.062361478805542\n",
      "rmse 1.4360923767089844\n",
      "spearman 0.40318194031715393\n",
      "pearson 0.40872424840927124\n",
      "==================================================\n",
      "Additive Model Combined Score:\n",
      "SCC: SignificanceResult(statistic=0.5299539335035481, pvalue=0.0)\n",
      "PCC: PearsonRResult(statistic=0.5166494156363526, pvalue=0.0)\n",
      "RMSE: 1.1220313\n"
     ]
    }
   ],
   "source": [
    "# Megascale-D test set\n",
    "cfg.training.batch_size = 256\n",
    "cfg.data.dataset = 'megascale'\n",
    "cfg.data.splits = ['test']\n",
    "cfg.data.mut_types = ['double']\n",
    "cfg.data.pick = 0\n",
    "# load double mutant dataset twice, once for each mutation\n",
    "from copy import deepcopy\n",
    "cfg2 = deepcopy(cfg)\n",
    "cfg2.data.pick = 1\n",
    "keep = True\n",
    "\n",
    "dataset_1 = MegaScaleDatasetv2(cfg, split='test') # first mutation\n",
    "dataset_2 = MegaScaleDatasetv2(cfg2, split='test') # second mutation\n",
    "results_1 = run_prediction_batched(name='ThermoMPNN_additive', model=model, dataset_name='megascale-D-test-1', results=[], dataset=dataset_1, keep=keep, zero_shot=False, cfg=cfg)\n",
    "results_2 = run_prediction_batched(name='ThermoMPNN_additive', model=model, dataset_name='megascale-D-test-2', results=[], dataset=dataset_2, keep=keep, zero_shot=False, cfg=cfg)\n",
    "\n",
    "# add single mutant ddGs to get additive prediction\n",
    "pred = results_1.ddG_pred + results_2.ddG_pred\n",
    "true = results_1.ddG_true\n",
    "\n",
    "print('=' * 50)\n",
    "print('Additive Model Combined Score:')\n",
    "print('SCC:', spearmanr(pred, true))\n",
    "print('PCC:', pearsonr(pred, true))\n",
    "print('RMSE:', rmse(pred, true))\n"
   ]
  },
  {
   "cell_type": "code",
   "execution_count": 10,
   "metadata": {},
   "outputs": [
    {
     "name": "stdout",
     "output_type": "stream",
     "text": [
      "Reverse mutations: False\n",
      "Reverse mutations: False\n"
     ]
    },
    {
     "name": "stderr",
     "output_type": "stream",
     "text": [
      "/home/hdieckhaus/miniforge3/envs/thermoMPNN/lib/python3.10/site-packages/torchmetrics/utilities/prints.py:43: UserWarning: Metric `SpearmanCorrcoef` will save all targets and predictions in the buffer. For large datasets, this may lead to large memory footprint.\n",
      "  warnings.warn(*args, **kwargs)  # noqa: B028\n"
     ]
    },
    {
     "name": "stdout",
     "output_type": "stream",
     "text": [
      "Testing Model ThermoMPNN_additive on dataset ptmul-D-1\n"
     ]
    },
    {
     "name": "stderr",
     "output_type": "stream",
     "text": [
      "100%|██████████| 846/846 [00:06<00:00, 139.61it/s]\n"
     ]
    },
    {
     "name": "stdout",
     "output_type": "stream",
     "text": [
      "536 mutations evaluated\n",
      "r2 -0.004411101341247559\n",
      "mse 5.010765075683594\n",
      "rmse 2.238473892211914\n",
      "spearman 0.401434063911438\n",
      "pearson 0.3395371735095978\n",
      "Testing Model ThermoMPNN_additive on dataset ptmul-D-2\n"
     ]
    },
    {
     "name": "stderr",
     "output_type": "stream",
     "text": [
      "100%|██████████| 846/846 [00:06<00:00, 139.10it/s]"
     ]
    },
    {
     "name": "stdout",
     "output_type": "stream",
     "text": [
      "536 mutations evaluated\n",
      "r2 0.008609890937805176\n",
      "mse 4.94580602645874\n",
      "rmse 2.22391676902771\n",
      "spearman 0.42514491081237793\n",
      "pearson 0.3918190002441406\n",
      "==================================================\n",
      "Additive Model Combined Score:\n",
      "SCC: SignificanceResult(statistic=0.538188925473584, pvalue=1.408090842557814e-41)\n",
      "PCC: PearsonRResult(statistic=0.46378033089781784, pvalue=6.0999240436491386e-30)\n",
      "RMSE: 2.0045671\n"
     ]
    },
    {
     "name": "stderr",
     "output_type": "stream",
     "text": [
      "\n"
     ]
    }
   ],
   "source": [
    "# Alternate benchmark: PTMUL-D dataset\n",
    "cfg.training.batch_size = 1\n",
    "cfg.data.dataset = 'ptmul'\n",
    "cfg.data.splits = ['alt']\n",
    "cfg.data.mut_types = ['double']\n",
    "cfg.data.pick = 0\n",
    "from copy import deepcopy\n",
    "cfg2 = deepcopy(cfg)\n",
    "cfg2.data.pick = 1\n",
    "keep = True\n",
    "\n",
    "dataset_1 = ddgBenchDatasetv2(cfg, pdb_dir='data/protddg-bench-master/PTMUL/pdbs', csv_fname='data/protddg-bench-master/PTMUL/ptmul-5fold-mutateeverything_FINAL.csv')\n",
    "dataset_2 = ddgBenchDatasetv2(cfg2, pdb_dir='data/protddg-bench-master/PTMUL/pdbs', csv_fname='data/protddg-bench-master/PTMUL/ptmul-5fold-mutateeverything_FINAL.csv')\n",
    "results_1 = run_prediction_batched(name='ThermoMPNN_additive', model=model, dataset_name='ptmul-D-1', results=[], dataset=dataset_1, keep=keep, zero_shot=False, cfg=cfg)\n",
    "results_2 = run_prediction_batched(name='ThermoMPNN_additive', model=model, dataset_name='ptmul-D-2', results=[], dataset=dataset_2, keep=keep, zero_shot=False, cfg=cfg)\n",
    "\n",
    "# add single mutant ddGs to get additive prediction\n",
    "pred = results_1.ddG_pred + results_2.ddG_pred\n",
    "true = results_1.ddG_true\n",
    "\n",
    "print('=' * 50)\n",
    "print('Additive Model Combined Score:')\n",
    "print('SCC:', spearmanr(pred, true))\n",
    "print('PCC:', pearsonr(pred, true))\n",
    "print('RMSE:', rmse(pred, true))"
   ]
  },
  {
   "cell_type": "markdown",
   "metadata": {},
   "source": [
    "## Epistatic double mutant model ## "
   ]
  },
  {
   "cell_type": "code",
   "execution_count": 2,
   "metadata": {},
   "outputs": [
    {
     "name": "stdout",
     "output_type": "stream",
     "text": [
      "Multi-mutant siamese network enabled!\n",
      "Loading model %s /home/hdieckhaus/scripts/ThermoMPNN/vanilla_model_weights/v_48_020.pt\n",
      "setting ProteinMPNN dropout: 0.0\n",
      "MLP HIDDEN SIZES: [256, 128, 128, 1]\n",
      "Relative loss weights:\n",
      "ALPHA:\t1.0\n",
      "BETA:\t1.0\n"
     ]
    }
   ],
   "source": [
    "# default epistatic double mutant config\n",
    "cfg = OmegaConf.merge(OmegaConf.load('examples/configs/local.yaml'), OmegaConf.load('examples/configs/epistatic.yaml'))\n",
    "cfg = parse_cfg(cfg)\n",
    "\n",
    "# load epistatic double mutant model\n",
    "model_path = 'model_weights/ThermoMPNN-D-ens1.ckpt'\n",
    "model = TransferModelPLv2Siamese.load_from_checkpoint(checkpoint_path=model_path, cfg=cfg, device='gpu')\n"
   ]
  },
  {
   "cell_type": "code",
   "execution_count": 4,
   "metadata": {},
   "outputs": [
    {
     "name": "stderr",
     "output_type": "stream",
     "text": [
      "100%|██████████| 28/28 [00:03<00:00,  8.45it/s]\n",
      "/home/hdieckhaus/miniforge3/envs/thermoMPNN/lib/python3.10/site-packages/torchmetrics/utilities/prints.py:43: UserWarning: Metric `SpearmanCorrcoef` will save all targets and predictions in the buffer. For large datasets, this may lead to large memory footprint.\n",
      "  warnings.warn(*args, **kwargs)  # noqa: B028\n"
     ]
    },
    {
     "name": "stdout",
     "output_type": "stream",
     "text": [
      "Including 19671 direct single/double mutations\n",
      "Testing Model ThermoMPNN_epistatic on dataset megascale-D-test-epi\n"
     ]
    },
    {
     "name": "stderr",
     "output_type": "stream",
     "text": [
      "100%|██████████| 77/77 [00:22<00:00,  3.44it/s]"
     ]
    },
    {
     "name": "stdout",
     "output_type": "stream",
     "text": [
      "19671 mutations evaluated\n",
      "r2 0.03427821397781372\n",
      "mse 1.1454977989196777\n",
      "rmse 1.0702793598175049\n",
      "spearman 0.5570732355117798\n",
      "pearson 0.5463431477546692\n"
     ]
    },
    {
     "name": "stderr",
     "output_type": "stream",
     "text": [
      "\n"
     ]
    }
   ],
   "source": [
    "# Megascale-D test set\n",
    "cfg.training.batch_size = 256\n",
    "cfg.data.dataset = 'megascale'\n",
    "cfg.data.splits = ['test']\n",
    "cfg.data.mut_types = ['double']\n",
    "keep = False\n",
    "dataset = MegaScaleDatasetv2(cfg, split='test') # double mutation\n",
    "results = run_prediction_batched(name='ThermoMPNN_epistatic', model=model, dataset_name='megascale-D-test-epi', results=[], dataset=dataset, keep=keep, zero_shot=False, cfg=cfg)\n"
   ]
  },
  {
   "cell_type": "code",
   "execution_count": 5,
   "metadata": {},
   "outputs": [
    {
     "name": "stdout",
     "output_type": "stream",
     "text": [
      "Reverse mutations: False\n"
     ]
    },
    {
     "name": "stderr",
     "output_type": "stream",
     "text": [
      "/home/hdieckhaus/miniforge3/envs/thermoMPNN/lib/python3.10/site-packages/torchmetrics/utilities/prints.py:43: UserWarning: Metric `SpearmanCorrcoef` will save all targets and predictions in the buffer. For large datasets, this may lead to large memory footprint.\n",
      "  warnings.warn(*args, **kwargs)  # noqa: B028\n"
     ]
    },
    {
     "name": "stdout",
     "output_type": "stream",
     "text": [
      "Testing Model ThermoMPNN_epistatic on dataset ptmul-D-test-epi\n"
     ]
    },
    {
     "name": "stderr",
     "output_type": "stream",
     "text": [
      "100%|██████████| 846/846 [00:07<00:00, 118.68it/s]"
     ]
    },
    {
     "name": "stdout",
     "output_type": "stream",
     "text": [
      "536 mutations evaluated\n",
      "r2 0.20691817998886108\n",
      "mse 3.9564943313598633\n",
      "rmse 1.9890938997268677\n",
      "spearman 0.5657690167427063\n",
      "pearson 0.5374158024787903\n"
     ]
    },
    {
     "name": "stderr",
     "output_type": "stream",
     "text": [
      "\n"
     ]
    }
   ],
   "source": [
    "\n",
    "# PTMUL-D dataset\n",
    "cfg.training.batch_size = 1\n",
    "cfg.data.dataset = 'ptmul'\n",
    "cfg.data.splits = ['alt']\n",
    "cfg.data.mut_types = ['double']\n",
    "keep = True\n",
    "dataset = ddgBenchDatasetv2(cfg, pdb_dir='data/protddg-bench-master/PTMUL/pdbs', csv_fname='data/protddg-bench-master/PTMUL/ptmul-5fold-mutateeverything_FINAL.csv')\n",
    "results = run_prediction_batched(name='ThermoMPNN_epistatic', model=model, dataset_name='ptmul-D-test-epi', results=[], dataset=dataset, keep=keep, zero_shot=False, cfg=cfg)\n"
   ]
  },
  {
   "cell_type": "code",
   "execution_count": 6,
   "metadata": {},
   "outputs": [
    {
     "name": "stdout",
     "output_type": "stream",
     "text": [
      "PPV: 0.512\n"
     ]
    }
   ],
   "source": [
    "\n",
    "# check stabilizing mutation scores for PTMUL\n",
    "cutoff = -0.5\n",
    "\n",
    "pred_hits = results.loc[results['ddG_pred'] <= cutoff]\n",
    "true_hits = pred_hits.loc[pred_hits['ddG_true'] <= cutoff]\n",
    "ppv = round(true_hits.shape[0] / pred_hits.shape[0], 3)\n",
    "print('PPV:', ppv)\n"
   ]
  },
  {
   "cell_type": "code",
   "execution_count": 7,
   "metadata": {},
   "outputs": [
    {
     "name": "stderr",
     "output_type": "stream",
     "text": [
      "100%|██████████| 1/1 [00:00<00:00, 65.28it/s]\n",
      "/home/hdieckhaus/miniforge3/envs/thermoMPNN/lib/python3.10/site-packages/torchmetrics/utilities/prints.py:43: UserWarning: Metric `SpearmanCorrcoef` will save all targets and predictions in the buffer. For large datasets, this may lead to large memory footprint.\n",
      "  warnings.warn(*args, **kwargs)  # noqa: B028\n"
     ]
    },
    {
     "name": "stdout",
     "output_type": "stream",
     "text": [
      "Testing Model ThermoMPNN_epistatic on dataset gfp-aeqvi-D-test-epi\n"
     ]
    },
    {
     "name": "stderr",
     "output_type": "stream",
     "text": [
      "100%|██████████| 12777/12777 [02:38<00:00, 80.75it/s]\n"
     ]
    },
    {
     "name": "stdout",
     "output_type": "stream",
     "text": [
      "12777 mutations evaluated\n",
      "r2 -42.911376953125\n",
      "mse 21.095693588256836\n",
      "rmse 4.5930047035217285\n",
      "spearman 0.39240726828575134\n",
      "pearson 0.42119482159614563\n"
     ]
    }
   ],
   "source": [
    "\n",
    "# DMS sweep example\n",
    "cfg.training.batch_size = 1\n",
    "cfg.data.dataset = 'proteingym'\n",
    "cfg.data.splits = ['GFP_AEQVI']\n",
    "cfg.data.mut_types = ['double']\n",
    "keep = False # make True if you want to get your predictions back\n",
    "dataset = ProteinGymDataset(cfg, pdb_dir='data/protein-gym/ProteinGym_AF2_structures', csv_fname='data/protein-gym/csvs/GFP_AEQVI.csv')\n",
    "results = run_prediction_batched(name='ThermoMPNN_epistatic', model=model, dataset_name='gfp-aeqvi-D-test-epi', results=[], dataset=dataset, keep=keep, zero_shot=False, cfg=cfg)\n"
   ]
  },
  {
   "cell_type": "code",
   "execution_count": null,
   "metadata": {},
   "outputs": [],
   "source": []
  }
 ],
 "metadata": {
  "kernelspec": {
   "display_name": "thermoMPNN",
   "language": "python",
   "name": "python3"
  },
  "language_info": {
   "codemirror_mode": {
    "name": "ipython",
    "version": 3
   },
   "file_extension": ".py",
   "mimetype": "text/x-python",
   "name": "python",
   "nbconvert_exporter": "python",
   "pygments_lexer": "ipython3",
   "version": "3.10.13"
  }
 },
 "nbformat": 4,
 "nbformat_minor": 2
}
