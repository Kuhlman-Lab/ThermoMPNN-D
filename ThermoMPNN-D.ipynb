{
  "cells": [
    {
      "cell_type": "markdown",
      "metadata": {
        "id": "view-in-github",
        "colab_type": "text"
      },
      "source": [
        "<a href=\"https://colab.research.google.com/github/Kuhlman-Lab/ThermoMPNN-D/blob/main/ThermoMPNN-D.ipynb\" target=\"_parent\"><img src=\"https://colab.research.google.com/assets/colab-badge.svg\" alt=\"Open In Colab\"/></a>"
      ]
    },
    {
      "cell_type": "markdown",
      "metadata": {
        "id": "hPU-s3e_ex-I"
      },
      "source": [
        "# <center>**This is the Colab implementation of ThermoMPNN-D**</center>\n",
        "\n",
        "\n",
        "<center><img src='https://drive.google.com/uc?export=view&id=1qXMpih7MLeZfRDZF9-iYSlL6SXEY3FdS'></center>\n",
        "\n",
        "---\n",
        "\n",
        "ThermoMPNN-D is an updated version of ThermoMPNN for predicting double point mutations. It was trained on an augmented version of the Megascale double mutant dataset. It is state-of-the-art at predicting stabilizing double mutations.\n",
        "\n",
        "For convenience, we also provide a single-mutant ThermoMPNN model and an \"additive\" model that finds mutation pairs in a naive fashion by ignoring epistatic interactions. For details, see the [ThermoMPNN-D paper](https://doi.org/10.1002/pro.70003).\n",
        "\n",
        "### **COLAB TIPS:**\n",
        "- The cells of this notebook are meant to be executed *in order*, so users should start from the top and work their way down.\n",
        "- Executable cells can be run by clicking the PLAY button (>) that appears when you hover over each cell, or by using **Shift+Enter**.\n",
        "- Make sure GPU is enabled by checking `Runtime` -> `Change Runtime Type`\n",
        "  - Make sure that `Runtime type` is set to `Python 3`\n",
        "  - Make sure that `Hardware accelerator` is set to `GPU`\n",
        "  - Click `Save` to confirm\n",
        "\n",
        "- If the notebook freezes up or otherwise crashes, go to `Runtime` -> `Restart Runtime` and try again.\n"
      ]
    },
    {
      "cell_type": "code",
      "execution_count": null,
      "metadata": {
        "cellView": "form",
        "id": "zqSoIY9hfaae"
      },
      "outputs": [],
      "source": [
        "%%capture\n",
        "\n",
        "#@title # 1. Set up **ThermoMPNN environment**\n",
        "#@markdown Import ThermoMPNN and its dependencies to this session. This may take a minute or two.\n",
        "\n",
        "#@markdown You only need to do this once *per session*. To re-run ThermoMPNN on a new protein, you may start on Step 3.\n",
        "\n",
        "# cleaning out any remaining data\n",
        "!cd /content\n",
        "!rm -rf /content/ThermoMPNN-D\n",
        "!rm -rf /content/sample_data\n",
        "!rm /content/*.pdb\n",
        "!rm /content/*.csv\n",
        "\n",
        "# import ThermoMPNN-D github repo\n",
        "import os\n",
        "if not os.path.exists(\"/content/ThermoMPNN-D\"):\n",
        "  !git clone https://github.com/Kuhlman-Lab/ThermoMPNN-D.git\n",
        "  %cd /content/ThermoMPNN-D\n",
        "\n",
        "# downloading various dependencies - add more if needed later\n",
        "! pip install omegaconf wandb pytorch-lightning biopython\n"
      ]
    },
    {
      "cell_type": "code",
      "execution_count": null,
      "metadata": {
        "id": "3Lgz5km3gFyv",
        "cellView": "form"
      },
      "outputs": [],
      "source": [
        "%%capture\n",
        "#@title # **2. Set up ThermoMPNN imports and functions**\n",
        "\n",
        "import os\n",
        "import sys\n",
        "from urllib import request\n",
        "from urllib.error import HTTPError\n",
        "\n",
        "from google.colab._message import MessageError\n",
        "from google.colab import files\n",
        "\n",
        "\n",
        "tMPNN_path = '/content/ThermoMPNN-D'\n",
        "if tMPNN_path not in sys.path:\n",
        "  sys.path.append(tMPNN_path)\n",
        "\n",
        "\n",
        "def download_pdb(pdbcode, datadir, downloadurl=\"https://files.rcsb.org/download/\"):\n",
        "    \"\"\"\n",
        "    Downloads a PDB file from the Internet and saves it in a data directory.\n",
        "    :param pdbcode: The standard PDB ID e.g. '3ICB' or '3icb'\n",
        "    :param datadir: The directory where the downloaded file will be saved\n",
        "    :param downloadurl: The base PDB download URL, cf.\n",
        "        `https://www.rcsb.org/pages/download/http#structures` for details\n",
        "    :return: the full path to the downloaded PDB file or None if something went wrong\n",
        "    \"\"\"\n",
        "\n",
        "    pdbfn = pdbcode + \".pdb\"\n",
        "    url = downloadurl + pdbfn\n",
        "    outfnm = os.path.join(datadir, pdbfn)\n",
        "    try:\n",
        "        request.urlretrieve(url, outfnm)\n",
        "        return outfnm\n",
        "    except Exception as err:\n",
        "        print(str(err), file=sys.stderr)\n",
        "        return None\n",
        "\n",
        "def drop_cysteines(df, mode):\n",
        "  \"\"\"Drop any mutations to Cys\"\"\"\n",
        "\n",
        "  if mode.lower() == 'single':\n",
        "    aatype_to = df['Mutation'].str[-1].values\n",
        "    is_cys = aatype_to == \"C\"\n",
        "    df = df.loc[~is_cys].reset_index(drop=True)\n",
        "\n",
        "  elif mode.lower() == 'additive' or mode.lower() == 'epistatic':\n",
        "    muts = df['Mutation'].str.split(':', n=2, expand=True).values # [N, 2]\n",
        "    is_cys = []\n",
        "    for m in muts:\n",
        "      mut1, mut2 = m\n",
        "      is_cys.append(mut1.endswith(\"C\") or mut2.endswith(\"C\"))\n",
        "\n",
        "    is_cys = np.array(is_cys)\n",
        "    df = df.loc[~is_cys].reset_index(drop=True)\n",
        "  else:\n",
        "    raise ValueError(f\"Invalid mode {mode} selected!\")\n",
        "  return df\n"
      ]
    },
    {
      "cell_type": "code",
      "execution_count": null,
      "metadata": {
        "cellView": "form",
        "id": "WPhbnMAHf1qL"
      },
      "outputs": [],
      "source": [
        "# %%capture\n",
        "#@title # **3. Upload or Fetch Input Data**\n",
        "\n",
        "#@markdown ## You may either specify a PDB code to fetch or upload a custom PDB file.<br><br>\n",
        "\n",
        "# -------- Collecting Settings for ThermoMPNN run --------- #\n",
        "\n",
        "!rm /content/*.pdb &> /dev/null\n",
        "\n",
        "#@markdown PDB code (example: 1PGA):\n",
        "PDB = \"1PGA\" #@param {type: \"string\"}\n",
        "\n",
        "#@markdown -------\n",
        "\n",
        "#@markdown Upload Custom PDB?\n",
        "Custom = False #@param {type: \"boolean\"}\n",
        "\n",
        "#@markdown NOTE: If enabled, a `Choose files` button will appear at the bottom of this cell once this cell is run.\n",
        "\n",
        "#@markdown -----\n",
        "\n",
        "#@markdown Chain(s) of Interest (example: A,B,C):\n",
        "Chains = \"\" #@param {type:\"string\"}\n",
        "\n",
        "#@markdown If left empty, all chains will be used.\n",
        "\n",
        "# try to upload the PDB file to Colab servers\n",
        "if Custom:\n",
        "  try:\n",
        "    uploaded_pdb = files.upload()\n",
        "    for fn in uploaded_pdb.keys():\n",
        "      PDB = os.path.basename(fn)\n",
        "      if not PDB.endswith('.pdb'):\n",
        "        raise ValueError(f\"Uploaded file {PDB} does not end in '.pdb'. Please check and rename file as needed.\")\n",
        "      os.rename(fn, os.path.join(\"/content/\", PDB))\n",
        "      pdb_file = os.path.join(\"/content/\", PDB)\n",
        "  except (MessageError, FileNotFoundError):\n",
        "    print('\\n', '*' * 100, '\\n')\n",
        "    print('Sorry, your input file failed to upload. Please try the backup upload procedure (next cell).')\n",
        "\n",
        "else:\n",
        "  try:\n",
        "    fn = download_pdb(PDB, \"/content/\")\n",
        "    if fn is None:\n",
        "      raise ValueError(\"Failed to fetch PDB from RSCB. Please double-check PDB code and try again.\")\n",
        "    else:\n",
        "      pdb_file = fn\n",
        "  except HTTPError:\n",
        "    raise HTTPError(f\"No protein with code {PDB} exists in RSCB PDB. Please double-check PDB code and try again.\")\n"
      ]
    },
    {
      "cell_type": "code",
      "execution_count": null,
      "metadata": {
        "cellView": "form",
        "colab": {
          "base_uri": "https://localhost:8080/"
        },
        "id": "RjdyW_tmglI1",
        "outputId": "552ef0f2-8a2c-4c44-c6e6-e356b7ae499b"
      },
      "outputs": [
        {
          "name": "stdout",
          "output_type": "stream",
          "text": [
            "Successfully uploaded PDB file 1bvc.pdb\n"
          ]
        }
      ],
      "source": [
        "#@title # **3. Backup Data Upload (ONLY needed if initial upload failed)**\n",
        "\n",
        "#@markdown ## Colab automatic file uploads are not very reliable. If your file failed to upload automatically, you can do so manually by following these steps.<br><br>\n",
        "\n",
        "#@markdown #### 1. Click the \"Files\" icon on the left toolbar. This will open the Colab server file folder.\n",
        "\n",
        "#@markdown #### 2. The only thing in this folder should be \"ThermoMPNN\" directory. If any other files are in here, delete them.\n",
        "\n",
        "#@markdown #### 3. Click the \"Upload to session storage\" button under the \"Files\" header. Choose your file for upload.\n",
        "\n",
        "#@markdown #### 4. Run this cell. ThermoMPNN will find your file in session storage and use it.\n",
        "\n",
        "#@markdown ------\n",
        "\n",
        "#@markdown Chain(s) of Interest (example: A,B,C):\n",
        "Chains = \"\" #@param {type:\"string\"}\n",
        "#@markdown If left empty, all chains will be used.\n",
        "\n",
        "PDB = \"\"\n",
        "\n",
        "files = sorted(os.listdir('/content/'))\n",
        "files = [f for f in files if f.endswith('.pdb')]\n",
        "\n",
        "if len(files) < 1:\n",
        "  raise ValueError('No PDB file found. Please upload your file before running this cell. Make sure it has a .pdb suffix.')\n",
        "elif len(files) > 1:\n",
        "  raise ValueError('Too many PDB files found. Please clear out any other PDBs before running this cell.')\n",
        "else:\n",
        "  pdb_file = os.path.join(\"/content/\", files[0])\n",
        "  PDB = files[0].removesuffix('.pdb')\n",
        "  print('Successfully uploaded PDB file %s' % (files[0]))"
      ]
    },
    {
      "cell_type": "code",
      "execution_count": null,
      "metadata": {
        "cellView": "form",
        "id": "-bxta5Lvgheo"
      },
      "outputs": [],
      "source": [
        "#@markdown # **4. Run Model**\n",
        "\n",
        "#@markdown Stability model to use:\n",
        "Model = \"Single\" #@param [\"Epistatic\", \"Additive\", \"Single\"]\n",
        "\n",
        "#@markdown ##### Model descriptions:\n",
        "#@markdown * Single: Single mutation SSM sweep. Very fast and accurate.\n",
        "#@markdown * Additive: Naive double mutation SSM sweep. Ignores non-additive coupling. Very fast but less accurate than Epistatic model for picking stabilizing mutations.\n",
        "#@markdown * Epistatic: Full double mutation SSM sweep. Slower than Additive model, but more accurate for picking stabilizing mutations.\n",
        "\n",
        "#@markdown ---------------\n",
        "\n",
        "#@markdown Allow mutations to cysteine? (Not recommended)\n",
        "Include = False #@param {type: \"boolean\"}\n",
        "#@markdown Due to assay artifacts surrounding disulfide formation, model predictions for cysteine mutations may be overly favorable.\n",
        "\n",
        "#@markdown ---------------\n",
        "\n",
        "#@markdown Explicitly penalize disulfide breakage? (Recommended)\n",
        "Penalize = True #@param {type: \"boolean\"}\n",
        "\n",
        "#@markdown ThermoMPNN can usually detect disulfide breakage and penalize accordingly, but you may wish to explicitly forbid disulfide breakage to be safe. This option applies a flat penalty to make sure that breaking disulfides is always disfavored.\n",
        "\n",
        "#@markdown --------------\n",
        "\n",
        "#@markdown Batch size for model inference. (Recommended: 256 for Single/Additive models, 2048 for epistatic models)\n",
        "BatchSize = 256 #@param {type: \"integer\"}\n",
        "#@markdown If you hit a memory error, try lowering the BatchSize by factors of 2 to reduce memory usage.\n",
        "\n",
        "#@markdown --------------\n",
        "\n",
        "#@markdown Threshold for detecting stabilizing mutations. (Recommended: -1.0)\n",
        "Threshold = -1.0 #@param {type: \"number\"}\n",
        "#@markdown Only mutations with predicted ddG below this value will be kept for analysis. Higher thresholds will result in retaining more mutations.\n",
        "\n",
        "#@markdown --------------\n",
        "\n",
        "#@markdown Pairwise distance constraint for double mutants. (Recommended: 5.0)\n",
        "Distance = 5.0 #@param {type: \"number\"}\n",
        "#@markdown Only mutation pairs within this distance (in Angstrom) will be kept for analysis. Higher cutoffs will result in slower runtime and retaining more mutations.\n",
        "\n",
        "\n",
        "# use input_chain_list to grab correct protein chain\n",
        "chain_list = [c.strip() for c in Chains.strip().split(',')]\n",
        "if len(chain_list) == 1 and chain_list[0] == '':\n",
        "  chain_list = []"
      ]
    },
    {
      "cell_type": "code",
      "execution_count": null,
      "metadata": {
        "colab": {
          "base_uri": "https://localhost:8080/"
        },
        "id": "qisnoLI-iddh",
        "outputId": "c38dfbe7-6fdb-4c08-b729-3a23f2475dc5",
        "cellView": "form"
      },
      "outputs": [
        {
          "output_type": "stream",
          "name": "stderr",
          "text": [
            "/usr/local/lib/python3.10/dist-packages/Bio/pairwise2.py:278: BiopythonDeprecationWarning: Bio.pairwise2 has been deprecated, and we intend to remove it in a future release of Biopython. As an alternative, please consider using Bio.Align.PairwiseAligner as a replacement, and contact the Biopython developers if you still need the Bio.pairwise2 module.\n",
            "  warnings.warn(\n"
          ]
        },
        {
          "output_type": "stream",
          "name": "stdout",
          "text": [
            "Loading model %s /content/ThermoMPNN-D/vanilla_model_weights/v_48_020.pt\n",
            "setting ProteinMPNN dropout: 0.0\n",
            "MLP HIDDEN SIZES: [384, 64, 32, 21]\n",
            "Loaded PDB 1vii.pdb\n"
          ]
        },
        {
          "output_type": "stream",
          "name": "stderr",
          "text": [
            "/content/ThermoMPNN-D/thermompnn/model/modules.py:30: FutureWarning: You are using `torch.load` with `weights_only=False` (the current default value), which uses the default pickle module implicitly. It is possible to construct malicious pickle data which will execute arbitrary code during unpickling (See https://github.com/pytorch/pytorch/blob/main/SECURITY.md#untrusted-models for more details). In a future release, the default value for `weights_only` will be flipped to `True`. This limits the functions that could be executed during unpickling. Arbitrary objects will no longer be allowed to be loaded via this mode unless they are explicitly allowlisted by the user via `torch.serialization.add_safe_globals`. We recommend you start setting `weights_only=True` for any use case where you don't have full control of the loaded file. Please open an issue on GitHub for any issues related to this experimental feature.\n",
            "  checkpoint = torch.load(checkpoint_path, map_location='cpu')\n",
            "/usr/local/lib/python3.10/dist-packages/torchmetrics/utilities/prints.py:43: UserWarning: Metric `SpearmanCorrcoef` will save all targets and predictions in the buffer. For large datasets, this may lead to large memory footprint.\n",
            "  warnings.warn(*args, **kwargs)  # noqa: B028\n"
          ]
        },
        {
          "output_type": "stream",
          "name": "stdout",
          "text": [
            "ThermoMPNN single mutant predictions generated for protein of length 36 in 0.92 seconds.\n"
          ]
        },
        {
          "output_type": "stream",
          "name": "stderr",
          "text": [
            "2it [00:00, 4038.81it/s]"
          ]
        },
        {
          "output_type": "stream",
          "name": "stdout",
          "text": [
            "ThermoMPNN predictions renumbered.\n"
          ]
        },
        {
          "output_type": "stream",
          "name": "stderr",
          "text": [
            "\n"
          ]
        }
      ],
      "source": [
        "#@title # **Run SSM Inference**\n",
        "\n",
        "import pandas as pd\n",
        "import numpy as np\n",
        "\n",
        "from thermompnn.ssm_utils import (\n",
        "    distance_filter,\n",
        "    disulfide_penalty,\n",
        "    get_config,\n",
        "    get_dmat,\n",
        "    get_model,\n",
        "    load_pdb,\n",
        "    renumber_pdb,\n",
        ")\n",
        "from v2_ssm import (\n",
        "    run_single_ssm,\n",
        "    run_epistatic_ssm,\n",
        "    format_output_single,\n",
        "    format_output_double,\n",
        "    check_df_size,\n",
        ")\n",
        "\n",
        "# ------------ MAIN INFERENCE ROUTINE -------------- #\n",
        "\n",
        "mode = Model.lower()\n",
        "pdb = pdb_file\n",
        "chains = chain_list\n",
        "threshold = Threshold\n",
        "distance = Distance\n",
        "batch_size = BatchSize\n",
        "ss_penalty = Penalize\n",
        "\n",
        "cfg = get_config(mode)\n",
        "cfg.platform.thermompnn_dir = '/content/ThermoMPNN-D'\n",
        "model = get_model(mode, cfg)\n",
        "pdb_data = load_pdb(pdb, chains)\n",
        "pdbname = os.path.basename(pdb)\n",
        "print(f\"Loaded PDB {pdbname}\")\n",
        "\n",
        "if (mode == \"single\") or (mode == \"additive\"):\n",
        "  ddg, S = run_single_ssm(pdb_data, cfg, model)\n",
        "\n",
        "  if mode == \"single\":\n",
        "    ddg, mutations = format_output_single(ddg, S, threshold)\n",
        "  else:\n",
        "    ddg, mutations = format_output_double(\n",
        "      ddg, S, threshold, pdb_data, distance\n",
        "    )\n",
        "\n",
        "elif mode == \"epistatic\":\n",
        "  ddg, mutations = run_epistatic_ssm(\n",
        "    pdb_data, cfg, model, distance, threshold, batch_size\n",
        "  )\n",
        "\n",
        "else:\n",
        "  raise ValueError(\"Invalid mode selected!\")\n",
        "\n",
        "df = pd.DataFrame({\"ddG (kcal/mol)\": ddg, \"Mutation\": mutations})\n",
        "\n",
        "check_df_size(df.shape[0])\n",
        "\n",
        "if mode != \"single\":\n",
        "  df = distance_filter(df, pdb_data, distance)\n",
        "\n",
        "if ss_penalty:\n",
        "  df = disulfide_penalty(df, pdb_data, mode)\n",
        "\n",
        "if not Include:\n",
        "  df = drop_cysteines(df, mode)\n",
        "\n",
        "df = df.dropna(subset=[\"ddG (kcal/mol)\"])\n",
        "if threshold <= -0.0:\n",
        "  df = df.sort_values(by=[\"ddG (kcal/mol)\"])\n",
        "\n",
        "if mode != \"single\":  # sort to have neat output order\n",
        "  df[[\"mut1\", \"mut2\"]] = df[\"Mutation\"].str.split(\":\", n=2, expand=True)\n",
        "  df[\"pos1\"] = df[\"mut1\"].str[1:-1].astype(int) + 1\n",
        "  df[\"pos2\"] = df[\"mut2\"].str[1:-1].astype(int) + 1\n",
        "\n",
        "  df = df.sort_values(by=[\"pos1\", \"pos2\"])\n",
        "  df = df[[\"ddG (kcal/mol)\", \"Mutation\", \"CA-CA Distance\"]].reset_index(drop=True)\n",
        "\n",
        "check_df_size(df.shape[0])\n",
        "\n",
        "try:\n",
        "  df = renumber_pdb(df, pdb_data, mode)\n",
        "\n",
        "except (KeyError, IndexError):\n",
        "  print(\n",
        "    \"PDB renumbering failed (sorry!) You can still use the raw position data. Or, you can renumber your PDB, fill any weird gaps, and try again.\"\n",
        "  )\n"
      ]
    },
    {
      "cell_type": "code",
      "execution_count": null,
      "metadata": {
        "colab": {
          "base_uri": "https://localhost:8080/",
          "height": 185
        },
        "id": "rpdMGazKO0g1",
        "outputId": "4399ec01-a160-490d-9fab-e40069210d94",
        "cellView": "form"
      },
      "outputs": [
        {
          "output_type": "execute_result",
          "data": {
            "text/html": [
              "<div>\n",
              "<style scoped>\n",
              "    .dataframe tbody tr th:only-of-type {\n",
              "        vertical-align: middle;\n",
              "    }\n",
              "\n",
              "    .dataframe tbody tr th {\n",
              "        vertical-align: top;\n",
              "    }\n",
              "\n",
              "    .dataframe thead th {\n",
              "        text-align: right;\n",
              "    }\n",
              "</style>\n",
              "<table border=\"1\" class=\"dataframe\">\n",
              "  <thead>\n",
              "    <tr style=\"text-align: right;\">\n",
              "      <th></th>\n",
              "      <th>ddG (kcal/mol)</th>\n",
              "      <th>Mutation</th>\n",
              "    </tr>\n",
              "  </thead>\n",
              "  <tbody>\n",
              "    <tr>\n",
              "      <th>0</th>\n",
              "      <td>-1.531715</td>\n",
              "      <td>KA70W</td>\n",
              "    </tr>\n",
              "    <tr>\n",
              "      <th>1</th>\n",
              "      <td>-1.311499</td>\n",
              "      <td>KA70Y</td>\n",
              "    </tr>\n",
              "  </tbody>\n",
              "</table>\n",
              "</div>"
            ],
            "application/vnd.google.colaboratory.module+javascript": "\n      import \"https://ssl.gstatic.com/colaboratory/data_table/e523c247d1e24a05/data_table.js\";\n\n      const table = window.createDataTable({\n        data: [[{\n            'v': 0,\n            'f': \"0\",\n        },\n{\n            'v': -1.5317153930664062,\n            'f': \"-1.5317153930664062\",\n        },\n\"KA70W\"],\n [{\n            'v': 1,\n            'f': \"1\",\n        },\n{\n            'v': -1.3114986419677734,\n            'f': \"-1.3114986419677734\",\n        },\n\"KA70Y\"]],\n        columns: [[\"number\", \"index\"], [\"number\", \"ddG (kcal/mol)\"], [\"string\", \"Mutation\"]],\n        columnOptions: [{\"width\": \"1px\", \"className\": \"index_column\"}],\n        rowsPerPage: 10,\n        helpUrl: \"https://colab.research.google.com/notebooks/data_table.ipynb\",\n        suppressOutputScrolling: true,\n        minimumWidth: undefined,\n      });\n\n      function appendQuickchartButton(parentElement) {\n        let quickchartButtonContainerElement = document.createElement('div');\n        quickchartButtonContainerElement.innerHTML = `\n<div id=\"df-0c483008-0b75-462f-bd4c-7a1aaa147bdc\">\n  <button class=\"colab-df-quickchart\" onclick=\"quickchart('df-0c483008-0b75-462f-bd4c-7a1aaa147bdc')\"\n            title=\"Suggest charts\"\n            style=\"display:none;\">\n    \n<svg xmlns=\"http://www.w3.org/2000/svg\" height=\"24px\"viewBox=\"0 0 24 24\"\n     width=\"24px\">\n    <g>\n        <path d=\"M19 3H5c-1.1 0-2 .9-2 2v14c0 1.1.9 2 2 2h14c1.1 0 2-.9 2-2V5c0-1.1-.9-2-2-2zM9 17H7v-7h2v7zm4 0h-2V7h2v10zm4 0h-2v-4h2v4z\"/>\n    </g>\n</svg>\n  </button>\n  \n<style>\n  .colab-df-quickchart {\n      --bg-color: #E8F0FE;\n      --fill-color: #1967D2;\n      --hover-bg-color: #E2EBFA;\n      --hover-fill-color: #174EA6;\n      --disabled-fill-color: #AAA;\n      --disabled-bg-color: #DDD;\n  }\n\n  [theme=dark] .colab-df-quickchart {\n      --bg-color: #3B4455;\n      --fill-color: #D2E3FC;\n      --hover-bg-color: #434B5C;\n      --hover-fill-color: #FFFFFF;\n      --disabled-bg-color: #3B4455;\n      --disabled-fill-color: #666;\n  }\n\n  .colab-df-quickchart {\n    background-color: var(--bg-color);\n    border: none;\n    border-radius: 50%;\n    cursor: pointer;\n    display: none;\n    fill: var(--fill-color);\n    height: 32px;\n    padding: 0;\n    width: 32px;\n  }\n\n  .colab-df-quickchart:hover {\n    background-color: var(--hover-bg-color);\n    box-shadow: 0 1px 2px rgba(60, 64, 67, 0.3), 0 1px 3px 1px rgba(60, 64, 67, 0.15);\n    fill: var(--button-hover-fill-color);\n  }\n\n  .colab-df-quickchart-complete:disabled,\n  .colab-df-quickchart-complete:disabled:hover {\n    background-color: var(--disabled-bg-color);\n    fill: var(--disabled-fill-color);\n    box-shadow: none;\n  }\n\n  .colab-df-spinner {\n    border: 2px solid var(--fill-color);\n    border-color: transparent;\n    border-bottom-color: var(--fill-color);\n    animation:\n      spin 1s steps(1) infinite;\n  }\n\n  @keyframes spin {\n    0% {\n      border-color: transparent;\n      border-bottom-color: var(--fill-color);\n      border-left-color: var(--fill-color);\n    }\n    20% {\n      border-color: transparent;\n      border-left-color: var(--fill-color);\n      border-top-color: var(--fill-color);\n    }\n    30% {\n      border-color: transparent;\n      border-left-color: var(--fill-color);\n      border-top-color: var(--fill-color);\n      border-right-color: var(--fill-color);\n    }\n    40% {\n      border-color: transparent;\n      border-right-color: var(--fill-color);\n      border-top-color: var(--fill-color);\n    }\n    60% {\n      border-color: transparent;\n      border-right-color: var(--fill-color);\n    }\n    80% {\n      border-color: transparent;\n      border-right-color: var(--fill-color);\n      border-bottom-color: var(--fill-color);\n    }\n    90% {\n      border-color: transparent;\n      border-bottom-color: var(--fill-color);\n    }\n  }\n</style>\n\n  <script>\n    async function quickchart(key) {\n      const quickchartButtonEl =\n        document.querySelector('#' + key + ' button');\n      quickchartButtonEl.disabled = true;  // To prevent multiple clicks.\n      quickchartButtonEl.classList.add('colab-df-spinner');\n      try {\n        const charts = await google.colab.kernel.invokeFunction(\n            'suggestCharts', [key], {});\n      } catch (error) {\n        console.error('Error during call to suggestCharts:', error);\n      }\n      quickchartButtonEl.classList.remove('colab-df-spinner');\n      quickchartButtonEl.classList.add('colab-df-quickchart-complete');\n    }\n    (() => {\n      let quickchartButtonEl =\n        document.querySelector('#df-0c483008-0b75-462f-bd4c-7a1aaa147bdc button');\n      quickchartButtonEl.style.display =\n        google.colab.kernel.accessAllowed ? 'block' : 'none';\n    })();\n  </script>\n</div>`;\n        parentElement.appendChild(quickchartButtonContainerElement);\n      }\n\n      appendQuickchartButton(table);\n    ",
            "text/plain": [
              "<google.colab.data_table.DataTable object>"
            ]
          },
          "metadata": {},
          "execution_count": 7
        }
      ],
      "source": [
        "#@title **Visualize data in an interactive table**\n",
        "from google.colab import data_table\n",
        "\n",
        "data_table.enable_dataframe_formatter()\n",
        "data_table.DataTable(df, include_index=True, num_rows_per_page=10)"
      ]
    },
    {
      "cell_type": "code",
      "execution_count": null,
      "metadata": {
        "colab": {
          "base_uri": "https://localhost:8080/",
          "height": 38
        },
        "id": "OX0cjtdNPJoA",
        "outputId": "602e14d1-21bd-4cfb-e036-80c9f336db55",
        "cellView": "form"
      },
      "outputs": [
        {
          "output_type": "display_data",
          "data": {
            "text/plain": [
              "<IPython.core.display.Javascript object>"
            ],
            "application/javascript": [
              "\n",
              "    async function download(id, filename, size) {\n",
              "      if (!google.colab.kernel.accessAllowed) {\n",
              "        return;\n",
              "      }\n",
              "      const div = document.createElement('div');\n",
              "      const label = document.createElement('label');\n",
              "      label.textContent = `Downloading \"${filename}\": `;\n",
              "      div.appendChild(label);\n",
              "      const progress = document.createElement('progress');\n",
              "      progress.max = size;\n",
              "      div.appendChild(progress);\n",
              "      document.body.appendChild(div);\n",
              "\n",
              "      const buffers = [];\n",
              "      let downloaded = 0;\n",
              "\n",
              "      const channel = await google.colab.kernel.comms.open(id);\n",
              "      // Send a message to notify the kernel that we're ready.\n",
              "      channel.send({})\n",
              "\n",
              "      for await (const message of channel.messages) {\n",
              "        // Send a message to notify the kernel that we're ready.\n",
              "        channel.send({})\n",
              "        if (message.buffers) {\n",
              "          for (const buffer of message.buffers) {\n",
              "            buffers.push(buffer);\n",
              "            downloaded += buffer.byteLength;\n",
              "            progress.value = downloaded;\n",
              "          }\n",
              "        }\n",
              "      }\n",
              "      const blob = new Blob(buffers, {type: 'application/binary'});\n",
              "      const a = document.createElement('a');\n",
              "      a.href = window.URL.createObjectURL(blob);\n",
              "      a.download = filename;\n",
              "      div.appendChild(a);\n",
              "      a.click();\n",
              "      div.remove();\n",
              "    }\n",
              "  "
            ]
          },
          "metadata": {}
        },
        {
          "output_type": "display_data",
          "data": {
            "text/plain": [
              "<IPython.core.display.Javascript object>"
            ],
            "application/javascript": [
              "download(\"download_7ed7568f-45e9-4786-87b4-38eccccade70\", \"example.csv\", 13617)"
            ]
          },
          "metadata": {}
        }
      ],
      "source": [
        "#@title # **Save Output as CSV**\n",
        "\n",
        "# ---------- Collect output into DF and save as CSV ---------- #\n",
        "from google.colab import files\n",
        "\n",
        "#@markdown Specify prefix for file saving (e.g., MyProtein). Leave blank to use input PDB code.\n",
        "PREFIX = \"MyProtein\" #@param {type:\"string\"}\n",
        "\n",
        "#@markdown If you wish to retrieve your files manually, you may do so in the **Files** tab in the leftmost toolbar.\n",
        "\n",
        "#@markdown NOTE: Make sure you click \"Allow\" if your browser asks to permit downloads at this step.\n",
        "\n",
        "#@markdown -------------\n",
        "\n",
        "#@markdown Save verbose output? (Recommended: True)\n",
        "VERBOSE = True #@param {type: \"boolean\"}\n",
        "#@markdown If enabled, more detailed mutation information will be saved.\n",
        "\n",
        "df['ddG (kcal/mol)'] = df['ddG (kcal/mol)'].round(4)\n",
        "\n",
        "if len(PREFIX) < 1:\n",
        "  PREFIX = pdb_file.split('.')[0]\n",
        "else:\n",
        "  PREFIX = os.path.join('/content/', PREFIX)\n",
        "\n",
        "full_fname = PREFIX + '.csv'\n",
        "\n",
        "if VERBOSE:\n",
        "  if Model == 'Single':\n",
        "    df['Wildtype AA'] = df['Mutation'].str[0]\n",
        "    df['Mutant AA'] = df['Mutation'].str[-1]\n",
        "    df['Position'] = df['Mutation'].str[2:-1]\n",
        "    df['Chain'] = df['Mutation'].str[1]\n",
        "\n",
        "  else:\n",
        "    df[['Mutation 1', 'Mutation 2']] = df['Mutation'].str.split(':', n=2, expand=True)\n",
        "    df['Wildtype AA 1'], df['Wildtype AA 2'] = df['Mutation 1'].str[0], df['Mutation 2'].str[0]\n",
        "    df['Mutant AA 1'], df['Mutant AA 2'] = df['Mutation 1'].str[-1], df['Mutation 2'].str[-1]\n",
        "    df['Position 1'], df['Position 2'] = df['Mutation 1'].str[2:-1], df['Mutation 2'].str[2:-1]\n",
        "    df['Chain 1'], df['Chain 2'] = df['Mutation 1'].str[1], df['Mutation 2'].str[1]\n",
        "\n",
        "df.to_csv(full_fname, index=True)\n",
        "files.download(full_fname)\n"
      ]
    },
    {
      "cell_type": "markdown",
      "metadata": {
        "id": "jaIXOllfc2Ok"
      },
      "source": [
        "# APPENDIX\n",
        "\n",
        "## License\n",
        "\n",
        "The source code for ThermoMPNN-D, including license information, can be found [here](https://github.com/Kuhlman-Lab/ThermoMPNN-D)\n",
        "\n",
        "---\n",
        "\n",
        "## Citation Information\n",
        "\n",
        "If you use ThermoMPNN or ThermoMPNN-D in your research, please cite the following paper(s):\n",
        "\n",
        "### Epistatic or Additive model:\n",
        "Dieckhaus, H., Kuhlman, B., *Protein stability models fail to capture epistatic interactions of double point mutations*. **2025**, Protein Science, 34(1): e70003, doi: https://doi.org/10.1002/pro.70003.\n",
        "\n",
        "### Single mutant model:\n",
        "Dieckhaus, H., Brocidiacono, M., Randolph, N., Kuhlman, B. *Transfer learning to leverage larger datasets for improved prediction of protein stability changes.* Proc Natl Acad Sci **2024**, 121(6): e2314853121, doi: https://doi.org/10.1073/pnas.2314853121.\n",
        "\n",
        "---\n",
        "\n",
        "## Contact Information\n",
        "\n",
        "Please contact Henry Dieckhaus at dieckhau@unc.edu to report any bugs or issues with this notebook. You may also submit issues on the ThermoMPNN-D GitHub page [here](https://github.com/Kuhlman-Lab/ThermoMPNN-D/issues).\n"
      ]
    }
  ],
  "metadata": {
    "accelerator": "GPU",
    "colab": {
      "gpuType": "T4",
      "provenance": [],
      "authorship_tag": "ABX9TyOyVZ2bX52HdXitL6C/+Mcs",
      "include_colab_link": true
    },
    "kernelspec": {
      "display_name": "Python 3",
      "name": "python3"
    },
    "language_info": {
      "name": "python"
    }
  },
  "nbformat": 4,
  "nbformat_minor": 0
}