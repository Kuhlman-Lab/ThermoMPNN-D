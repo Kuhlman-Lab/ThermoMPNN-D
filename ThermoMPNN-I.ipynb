{
  "nbformat": 4,
  "nbformat_minor": 0,
  "metadata": {
    "colab": {
      "provenance": [],
      "gpuType": "T4",
      "authorship_tag": "ABX9TyNOsI1ZuIOR70Dx/BaKzeVw",
      "include_colab_link": true
    },
    "kernelspec": {
      "name": "python3",
      "display_name": "Python 3"
    },
    "language_info": {
      "name": "python"
    },
    "accelerator": "GPU"
  },
  "cells": [
    {
      "cell_type": "markdown",
      "metadata": {
        "id": "view-in-github",
        "colab_type": "text"
      },
      "source": [
        "<a href=\"https://colab.research.google.com/github/Kuhlman-Lab/ThermoMPNN-D/blob/ThermoMPNN-I/ThermoMPNN-I.ipynb\" target=\"_parent\"><img src=\"https://colab.research.google.com/assets/colab-badge.svg\" alt=\"Open In Colab\"/></a>"
      ]
    },
    {
      "cell_type": "code",
      "execution_count": null,
      "metadata": {
        "id": "kQH_DG5FJOMG"
      },
      "outputs": [],
      "source": []
    },
    {
      "cell_type": "markdown",
      "source": [
        "# <center>**This is a Colab implementation of ThermoMPNN-I**</center>\n",
        "\n",
        "---\n",
        "\n",
        "ThermoMPNN-I is an experimental version of ThermoMPNN for predicting insertion and deletion (indel) mutations alongside substitutions. It was trained using the indel subset of the Megascale dataset used for vanilla ThermoMPNN.\n",
        "\n",
        "### **COLAB TIPS:**\n",
        "- The cells of this notebook are meant to be executed *in order*, so users should start from the top and work their way down.\n",
        "- Executable cells can be run by clicking the PLAY button (>) that appears when you hover over each cell, or by using **Shift+Enter**.\n",
        "- If the notebook freezes up or otherwise crashes, go to `Runtime` -> `Restart Runtime` and try again.\n"
      ],
      "metadata": {
        "id": "-pm-MS0eJrII"
      }
    }
  ]
}